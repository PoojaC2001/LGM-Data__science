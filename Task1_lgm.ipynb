{
  "nbformat": 4,
  "nbformat_minor": 0,
  "metadata": {
    "colab": {
      "name": "Task1-lgm.ipynb",
      "provenance": []
    },
    "kernelspec": {
      "name": "python3",
      "display_name": "Python 3"
    },
    "language_info": {
      "name": "python"
    }
  },
  "cells": [
    {
      "cell_type": "markdown",
      "source": [
        "**Author - Pooja Chavan**\n"
      ],
      "metadata": {
        "id": "ZWxugYIsunGb"
      }
    },
    {
      "cell_type": "markdown",
      "source": [
        "LGMVIP - Data Science Task-1 \n",
        "\n"
      ],
      "metadata": {
        "id": "YqyFLMxyvLaL"
      }
    },
    {
      "cell_type": "markdown",
      "source": [
        "# **Stock Market Prediction and Forecasting using stacked LSTM**"
      ],
      "metadata": {
        "id": "N4t9T2AiupiK"
      }
    },
    {
      "cell_type": "code",
      "execution_count": 23,
      "metadata": {
        "id": "DwIVV5WcNVnm"
      },
      "outputs": [],
      "source": [
        "import pandas as pd\n",
        "import numpy as np\n",
        "import matplotlib.pyplot as plt\n",
        "import seaborn as sns\n",
        "import warnings \n",
        "warnings.filterwarnings('ignore')\n",
        "\n",
        "from sklearn.preprocessing import MinMaxScaler\n",
        "from tensorflow.keras.models import Sequential\n",
        "from tensorflow.keras.layers import Dense\n",
        "from tensorflow.keras.layers import LSTM"
      ]
    },
    {
      "cell_type": "code",
      "source": [
        "data = pd.read_csv(r'https://raw.githubusercontent.com/mwitiderrick/stockprice/master/NSE-TATAGLOBAL.csv')\n",
        "data.head()\n"
      ],
      "metadata": {
        "colab": {
          "base_uri": "https://localhost:8080/",
          "height": 206
        },
        "id": "wbgveHJaR4CF",
        "outputId": "dac3ecbb-f644-4ea5-9845-e8d34173340c"
      },
      "execution_count": 2,
      "outputs": [
        {
          "output_type": "execute_result",
          "data": {
            "text/html": [
              "\n",
              "  <div id=\"df-5a80371b-b5ed-4abe-9b6c-59b94d862f5d\">\n",
              "    <div class=\"colab-df-container\">\n",
              "      <div>\n",
              "<style scoped>\n",
              "    .dataframe tbody tr th:only-of-type {\n",
              "        vertical-align: middle;\n",
              "    }\n",
              "\n",
              "    .dataframe tbody tr th {\n",
              "        vertical-align: top;\n",
              "    }\n",
              "\n",
              "    .dataframe thead th {\n",
              "        text-align: right;\n",
              "    }\n",
              "</style>\n",
              "<table border=\"1\" class=\"dataframe\">\n",
              "  <thead>\n",
              "    <tr style=\"text-align: right;\">\n",
              "      <th></th>\n",
              "      <th>Date</th>\n",
              "      <th>Open</th>\n",
              "      <th>High</th>\n",
              "      <th>Low</th>\n",
              "      <th>Last</th>\n",
              "      <th>Close</th>\n",
              "      <th>Total Trade Quantity</th>\n",
              "      <th>Turnover (Lacs)</th>\n",
              "    </tr>\n",
              "  </thead>\n",
              "  <tbody>\n",
              "    <tr>\n",
              "      <th>0</th>\n",
              "      <td>2018-09-28</td>\n",
              "      <td>234.05</td>\n",
              "      <td>235.95</td>\n",
              "      <td>230.20</td>\n",
              "      <td>233.50</td>\n",
              "      <td>233.75</td>\n",
              "      <td>3069914</td>\n",
              "      <td>7162.35</td>\n",
              "    </tr>\n",
              "    <tr>\n",
              "      <th>1</th>\n",
              "      <td>2018-09-27</td>\n",
              "      <td>234.55</td>\n",
              "      <td>236.80</td>\n",
              "      <td>231.10</td>\n",
              "      <td>233.80</td>\n",
              "      <td>233.25</td>\n",
              "      <td>5082859</td>\n",
              "      <td>11859.95</td>\n",
              "    </tr>\n",
              "    <tr>\n",
              "      <th>2</th>\n",
              "      <td>2018-09-26</td>\n",
              "      <td>240.00</td>\n",
              "      <td>240.00</td>\n",
              "      <td>232.50</td>\n",
              "      <td>235.00</td>\n",
              "      <td>234.25</td>\n",
              "      <td>2240909</td>\n",
              "      <td>5248.60</td>\n",
              "    </tr>\n",
              "    <tr>\n",
              "      <th>3</th>\n",
              "      <td>2018-09-25</td>\n",
              "      <td>233.30</td>\n",
              "      <td>236.75</td>\n",
              "      <td>232.00</td>\n",
              "      <td>236.25</td>\n",
              "      <td>236.10</td>\n",
              "      <td>2349368</td>\n",
              "      <td>5503.90</td>\n",
              "    </tr>\n",
              "    <tr>\n",
              "      <th>4</th>\n",
              "      <td>2018-09-24</td>\n",
              "      <td>233.55</td>\n",
              "      <td>239.20</td>\n",
              "      <td>230.75</td>\n",
              "      <td>234.00</td>\n",
              "      <td>233.30</td>\n",
              "      <td>3423509</td>\n",
              "      <td>7999.55</td>\n",
              "    </tr>\n",
              "  </tbody>\n",
              "</table>\n",
              "</div>\n",
              "      <button class=\"colab-df-convert\" onclick=\"convertToInteractive('df-5a80371b-b5ed-4abe-9b6c-59b94d862f5d')\"\n",
              "              title=\"Convert this dataframe to an interactive table.\"\n",
              "              style=\"display:none;\">\n",
              "        \n",
              "  <svg xmlns=\"http://www.w3.org/2000/svg\" height=\"24px\"viewBox=\"0 0 24 24\"\n",
              "       width=\"24px\">\n",
              "    <path d=\"M0 0h24v24H0V0z\" fill=\"none\"/>\n",
              "    <path d=\"M18.56 5.44l.94 2.06.94-2.06 2.06-.94-2.06-.94-.94-2.06-.94 2.06-2.06.94zm-11 1L8.5 8.5l.94-2.06 2.06-.94-2.06-.94L8.5 2.5l-.94 2.06-2.06.94zm10 10l.94 2.06.94-2.06 2.06-.94-2.06-.94-.94-2.06-.94 2.06-2.06.94z\"/><path d=\"M17.41 7.96l-1.37-1.37c-.4-.4-.92-.59-1.43-.59-.52 0-1.04.2-1.43.59L10.3 9.45l-7.72 7.72c-.78.78-.78 2.05 0 2.83L4 21.41c.39.39.9.59 1.41.59.51 0 1.02-.2 1.41-.59l7.78-7.78 2.81-2.81c.8-.78.8-2.07 0-2.86zM5.41 20L4 18.59l7.72-7.72 1.47 1.35L5.41 20z\"/>\n",
              "  </svg>\n",
              "      </button>\n",
              "      \n",
              "  <style>\n",
              "    .colab-df-container {\n",
              "      display:flex;\n",
              "      flex-wrap:wrap;\n",
              "      gap: 12px;\n",
              "    }\n",
              "\n",
              "    .colab-df-convert {\n",
              "      background-color: #E8F0FE;\n",
              "      border: none;\n",
              "      border-radius: 50%;\n",
              "      cursor: pointer;\n",
              "      display: none;\n",
              "      fill: #1967D2;\n",
              "      height: 32px;\n",
              "      padding: 0 0 0 0;\n",
              "      width: 32px;\n",
              "    }\n",
              "\n",
              "    .colab-df-convert:hover {\n",
              "      background-color: #E2EBFA;\n",
              "      box-shadow: 0px 1px 2px rgba(60, 64, 67, 0.3), 0px 1px 3px 1px rgba(60, 64, 67, 0.15);\n",
              "      fill: #174EA6;\n",
              "    }\n",
              "\n",
              "    [theme=dark] .colab-df-convert {\n",
              "      background-color: #3B4455;\n",
              "      fill: #D2E3FC;\n",
              "    }\n",
              "\n",
              "    [theme=dark] .colab-df-convert:hover {\n",
              "      background-color: #434B5C;\n",
              "      box-shadow: 0px 1px 3px 1px rgba(0, 0, 0, 0.15);\n",
              "      filter: drop-shadow(0px 1px 2px rgba(0, 0, 0, 0.3));\n",
              "      fill: #FFFFFF;\n",
              "    }\n",
              "  </style>\n",
              "\n",
              "      <script>\n",
              "        const buttonEl =\n",
              "          document.querySelector('#df-5a80371b-b5ed-4abe-9b6c-59b94d862f5d button.colab-df-convert');\n",
              "        buttonEl.style.display =\n",
              "          google.colab.kernel.accessAllowed ? 'block' : 'none';\n",
              "\n",
              "        async function convertToInteractive(key) {\n",
              "          const element = document.querySelector('#df-5a80371b-b5ed-4abe-9b6c-59b94d862f5d');\n",
              "          const dataTable =\n",
              "            await google.colab.kernel.invokeFunction('convertToInteractive',\n",
              "                                                     [key], {});\n",
              "          if (!dataTable) return;\n",
              "\n",
              "          const docLinkHtml = 'Like what you see? Visit the ' +\n",
              "            '<a target=\"_blank\" href=https://colab.research.google.com/notebooks/data_table.ipynb>data table notebook</a>'\n",
              "            + ' to learn more about interactive tables.';\n",
              "          element.innerHTML = '';\n",
              "          dataTable['output_type'] = 'display_data';\n",
              "          await google.colab.output.renderOutput(dataTable, element);\n",
              "          const docLink = document.createElement('div');\n",
              "          docLink.innerHTML = docLinkHtml;\n",
              "          element.appendChild(docLink);\n",
              "        }\n",
              "      </script>\n",
              "    </div>\n",
              "  </div>\n",
              "  "
            ],
            "text/plain": [
              "         Date    Open    High  ...   Close  Total Trade Quantity  Turnover (Lacs)\n",
              "0  2018-09-28  234.05  235.95  ...  233.75               3069914          7162.35\n",
              "1  2018-09-27  234.55  236.80  ...  233.25               5082859         11859.95\n",
              "2  2018-09-26  240.00  240.00  ...  234.25               2240909          5248.60\n",
              "3  2018-09-25  233.30  236.75  ...  236.10               2349368          5503.90\n",
              "4  2018-09-24  233.55  239.20  ...  233.30               3423509          7999.55\n",
              "\n",
              "[5 rows x 8 columns]"
            ]
          },
          "metadata": {},
          "execution_count": 2
        }
      ]
    },
    {
      "cell_type": "code",
      "source": [
        "data.info()"
      ],
      "metadata": {
        "colab": {
          "base_uri": "https://localhost:8080/"
        },
        "id": "fi-raC-MSCxu",
        "outputId": "184cef85-0528-4b97-9b70-f441bc8d621a"
      },
      "execution_count": 3,
      "outputs": [
        {
          "output_type": "stream",
          "name": "stdout",
          "text": [
            "<class 'pandas.core.frame.DataFrame'>\n",
            "RangeIndex: 2035 entries, 0 to 2034\n",
            "Data columns (total 8 columns):\n",
            " #   Column                Non-Null Count  Dtype  \n",
            "---  ------                --------------  -----  \n",
            " 0   Date                  2035 non-null   object \n",
            " 1   Open                  2035 non-null   float64\n",
            " 2   High                  2035 non-null   float64\n",
            " 3   Low                   2035 non-null   float64\n",
            " 4   Last                  2035 non-null   float64\n",
            " 5   Close                 2035 non-null   float64\n",
            " 6   Total Trade Quantity  2035 non-null   int64  \n",
            " 7   Turnover (Lacs)       2035 non-null   float64\n",
            "dtypes: float64(6), int64(1), object(1)\n",
            "memory usage: 127.3+ KB\n"
          ]
        }
      ]
    },
    {
      "cell_type": "code",
      "source": [
        "data.describe()"
      ],
      "metadata": {
        "colab": {
          "base_uri": "https://localhost:8080/",
          "height": 300
        },
        "id": "C5EJOSecSHzI",
        "outputId": "4dd7d553-6407-4b17-b5c2-63238e6146e6"
      },
      "execution_count": 4,
      "outputs": [
        {
          "output_type": "execute_result",
          "data": {
            "text/html": [
              "\n",
              "  <div id=\"df-f345ea97-0e29-46d4-a294-a76116aba6e3\">\n",
              "    <div class=\"colab-df-container\">\n",
              "      <div>\n",
              "<style scoped>\n",
              "    .dataframe tbody tr th:only-of-type {\n",
              "        vertical-align: middle;\n",
              "    }\n",
              "\n",
              "    .dataframe tbody tr th {\n",
              "        vertical-align: top;\n",
              "    }\n",
              "\n",
              "    .dataframe thead th {\n",
              "        text-align: right;\n",
              "    }\n",
              "</style>\n",
              "<table border=\"1\" class=\"dataframe\">\n",
              "  <thead>\n",
              "    <tr style=\"text-align: right;\">\n",
              "      <th></th>\n",
              "      <th>Open</th>\n",
              "      <th>High</th>\n",
              "      <th>Low</th>\n",
              "      <th>Last</th>\n",
              "      <th>Close</th>\n",
              "      <th>Total Trade Quantity</th>\n",
              "      <th>Turnover (Lacs)</th>\n",
              "    </tr>\n",
              "  </thead>\n",
              "  <tbody>\n",
              "    <tr>\n",
              "      <th>count</th>\n",
              "      <td>2035.000000</td>\n",
              "      <td>2035.000000</td>\n",
              "      <td>2035.000000</td>\n",
              "      <td>2035.000000</td>\n",
              "      <td>2035.00000</td>\n",
              "      <td>2.035000e+03</td>\n",
              "      <td>2035.000000</td>\n",
              "    </tr>\n",
              "    <tr>\n",
              "      <th>mean</th>\n",
              "      <td>149.713735</td>\n",
              "      <td>151.992826</td>\n",
              "      <td>147.293931</td>\n",
              "      <td>149.474251</td>\n",
              "      <td>149.45027</td>\n",
              "      <td>2.335681e+06</td>\n",
              "      <td>3899.980565</td>\n",
              "    </tr>\n",
              "    <tr>\n",
              "      <th>std</th>\n",
              "      <td>48.664509</td>\n",
              "      <td>49.413109</td>\n",
              "      <td>47.931958</td>\n",
              "      <td>48.732570</td>\n",
              "      <td>48.71204</td>\n",
              "      <td>2.091778e+06</td>\n",
              "      <td>4570.767877</td>\n",
              "    </tr>\n",
              "    <tr>\n",
              "      <th>min</th>\n",
              "      <td>81.100000</td>\n",
              "      <td>82.800000</td>\n",
              "      <td>80.000000</td>\n",
              "      <td>81.000000</td>\n",
              "      <td>80.95000</td>\n",
              "      <td>3.961000e+04</td>\n",
              "      <td>37.040000</td>\n",
              "    </tr>\n",
              "    <tr>\n",
              "      <th>25%</th>\n",
              "      <td>120.025000</td>\n",
              "      <td>122.100000</td>\n",
              "      <td>118.300000</td>\n",
              "      <td>120.075000</td>\n",
              "      <td>120.05000</td>\n",
              "      <td>1.146444e+06</td>\n",
              "      <td>1427.460000</td>\n",
              "    </tr>\n",
              "    <tr>\n",
              "      <th>50%</th>\n",
              "      <td>141.500000</td>\n",
              "      <td>143.400000</td>\n",
              "      <td>139.600000</td>\n",
              "      <td>141.100000</td>\n",
              "      <td>141.25000</td>\n",
              "      <td>1.783456e+06</td>\n",
              "      <td>2512.030000</td>\n",
              "    </tr>\n",
              "    <tr>\n",
              "      <th>75%</th>\n",
              "      <td>157.175000</td>\n",
              "      <td>159.400000</td>\n",
              "      <td>155.150000</td>\n",
              "      <td>156.925000</td>\n",
              "      <td>156.90000</td>\n",
              "      <td>2.813594e+06</td>\n",
              "      <td>4539.015000</td>\n",
              "    </tr>\n",
              "    <tr>\n",
              "      <th>max</th>\n",
              "      <td>327.700000</td>\n",
              "      <td>328.750000</td>\n",
              "      <td>321.650000</td>\n",
              "      <td>325.950000</td>\n",
              "      <td>325.75000</td>\n",
              "      <td>2.919102e+07</td>\n",
              "      <td>55755.080000</td>\n",
              "    </tr>\n",
              "  </tbody>\n",
              "</table>\n",
              "</div>\n",
              "      <button class=\"colab-df-convert\" onclick=\"convertToInteractive('df-f345ea97-0e29-46d4-a294-a76116aba6e3')\"\n",
              "              title=\"Convert this dataframe to an interactive table.\"\n",
              "              style=\"display:none;\">\n",
              "        \n",
              "  <svg xmlns=\"http://www.w3.org/2000/svg\" height=\"24px\"viewBox=\"0 0 24 24\"\n",
              "       width=\"24px\">\n",
              "    <path d=\"M0 0h24v24H0V0z\" fill=\"none\"/>\n",
              "    <path d=\"M18.56 5.44l.94 2.06.94-2.06 2.06-.94-2.06-.94-.94-2.06-.94 2.06-2.06.94zm-11 1L8.5 8.5l.94-2.06 2.06-.94-2.06-.94L8.5 2.5l-.94 2.06-2.06.94zm10 10l.94 2.06.94-2.06 2.06-.94-2.06-.94-.94-2.06-.94 2.06-2.06.94z\"/><path d=\"M17.41 7.96l-1.37-1.37c-.4-.4-.92-.59-1.43-.59-.52 0-1.04.2-1.43.59L10.3 9.45l-7.72 7.72c-.78.78-.78 2.05 0 2.83L4 21.41c.39.39.9.59 1.41.59.51 0 1.02-.2 1.41-.59l7.78-7.78 2.81-2.81c.8-.78.8-2.07 0-2.86zM5.41 20L4 18.59l7.72-7.72 1.47 1.35L5.41 20z\"/>\n",
              "  </svg>\n",
              "      </button>\n",
              "      \n",
              "  <style>\n",
              "    .colab-df-container {\n",
              "      display:flex;\n",
              "      flex-wrap:wrap;\n",
              "      gap: 12px;\n",
              "    }\n",
              "\n",
              "    .colab-df-convert {\n",
              "      background-color: #E8F0FE;\n",
              "      border: none;\n",
              "      border-radius: 50%;\n",
              "      cursor: pointer;\n",
              "      display: none;\n",
              "      fill: #1967D2;\n",
              "      height: 32px;\n",
              "      padding: 0 0 0 0;\n",
              "      width: 32px;\n",
              "    }\n",
              "\n",
              "    .colab-df-convert:hover {\n",
              "      background-color: #E2EBFA;\n",
              "      box-shadow: 0px 1px 2px rgba(60, 64, 67, 0.3), 0px 1px 3px 1px rgba(60, 64, 67, 0.15);\n",
              "      fill: #174EA6;\n",
              "    }\n",
              "\n",
              "    [theme=dark] .colab-df-convert {\n",
              "      background-color: #3B4455;\n",
              "      fill: #D2E3FC;\n",
              "    }\n",
              "\n",
              "    [theme=dark] .colab-df-convert:hover {\n",
              "      background-color: #434B5C;\n",
              "      box-shadow: 0px 1px 3px 1px rgba(0, 0, 0, 0.15);\n",
              "      filter: drop-shadow(0px 1px 2px rgba(0, 0, 0, 0.3));\n",
              "      fill: #FFFFFF;\n",
              "    }\n",
              "  </style>\n",
              "\n",
              "      <script>\n",
              "        const buttonEl =\n",
              "          document.querySelector('#df-f345ea97-0e29-46d4-a294-a76116aba6e3 button.colab-df-convert');\n",
              "        buttonEl.style.display =\n",
              "          google.colab.kernel.accessAllowed ? 'block' : 'none';\n",
              "\n",
              "        async function convertToInteractive(key) {\n",
              "          const element = document.querySelector('#df-f345ea97-0e29-46d4-a294-a76116aba6e3');\n",
              "          const dataTable =\n",
              "            await google.colab.kernel.invokeFunction('convertToInteractive',\n",
              "                                                     [key], {});\n",
              "          if (!dataTable) return;\n",
              "\n",
              "          const docLinkHtml = 'Like what you see? Visit the ' +\n",
              "            '<a target=\"_blank\" href=https://colab.research.google.com/notebooks/data_table.ipynb>data table notebook</a>'\n",
              "            + ' to learn more about interactive tables.';\n",
              "          element.innerHTML = '';\n",
              "          dataTable['output_type'] = 'display_data';\n",
              "          await google.colab.output.renderOutput(dataTable, element);\n",
              "          const docLink = document.createElement('div');\n",
              "          docLink.innerHTML = docLinkHtml;\n",
              "          element.appendChild(docLink);\n",
              "        }\n",
              "      </script>\n",
              "    </div>\n",
              "  </div>\n",
              "  "
            ],
            "text/plain": [
              "              Open         High  ...  Total Trade Quantity  Turnover (Lacs)\n",
              "count  2035.000000  2035.000000  ...          2.035000e+03      2035.000000\n",
              "mean    149.713735   151.992826  ...          2.335681e+06      3899.980565\n",
              "std      48.664509    49.413109  ...          2.091778e+06      4570.767877\n",
              "min      81.100000    82.800000  ...          3.961000e+04        37.040000\n",
              "25%     120.025000   122.100000  ...          1.146444e+06      1427.460000\n",
              "50%     141.500000   143.400000  ...          1.783456e+06      2512.030000\n",
              "75%     157.175000   159.400000  ...          2.813594e+06      4539.015000\n",
              "max     327.700000   328.750000  ...          2.919102e+07     55755.080000\n",
              "\n",
              "[8 rows x 7 columns]"
            ]
          },
          "metadata": {},
          "execution_count": 4
        }
      ]
    },
    {
      "cell_type": "code",
      "source": [
        "data['Date'] = pd.to_datetime(data['Date'])\n",
        "data.dtypes"
      ],
      "metadata": {
        "colab": {
          "base_uri": "https://localhost:8080/"
        },
        "id": "a0P522AcSLl9",
        "outputId": "5716e669-44c5-4f07-a55e-469eb349a412"
      },
      "execution_count": 5,
      "outputs": [
        {
          "output_type": "execute_result",
          "data": {
            "text/plain": [
              "Date                    datetime64[ns]\n",
              "Open                           float64\n",
              "High                           float64\n",
              "Low                            float64\n",
              "Last                           float64\n",
              "Close                          float64\n",
              "Total Trade Quantity             int64\n",
              "Turnover (Lacs)                float64\n",
              "dtype: object"
            ]
          },
          "metadata": {},
          "execution_count": 5
        }
      ]
    },
    {
      "cell_type": "code",
      "source": [
        "data = data.sort_values('Date')\n",
        "data.head()\n"
      ],
      "metadata": {
        "colab": {
          "base_uri": "https://localhost:8080/",
          "height": 206
        },
        "id": "9DPdk9djSXtI",
        "outputId": "058ff98b-4700-4194-94e8-6ff018c4a17b"
      },
      "execution_count": 6,
      "outputs": [
        {
          "output_type": "execute_result",
          "data": {
            "text/html": [
              "\n",
              "  <div id=\"df-c6bbd3c4-9309-4320-9dce-f8fdf0bba5ed\">\n",
              "    <div class=\"colab-df-container\">\n",
              "      <div>\n",
              "<style scoped>\n",
              "    .dataframe tbody tr th:only-of-type {\n",
              "        vertical-align: middle;\n",
              "    }\n",
              "\n",
              "    .dataframe tbody tr th {\n",
              "        vertical-align: top;\n",
              "    }\n",
              "\n",
              "    .dataframe thead th {\n",
              "        text-align: right;\n",
              "    }\n",
              "</style>\n",
              "<table border=\"1\" class=\"dataframe\">\n",
              "  <thead>\n",
              "    <tr style=\"text-align: right;\">\n",
              "      <th></th>\n",
              "      <th>Date</th>\n",
              "      <th>Open</th>\n",
              "      <th>High</th>\n",
              "      <th>Low</th>\n",
              "      <th>Last</th>\n",
              "      <th>Close</th>\n",
              "      <th>Total Trade Quantity</th>\n",
              "      <th>Turnover (Lacs)</th>\n",
              "    </tr>\n",
              "  </thead>\n",
              "  <tbody>\n",
              "    <tr>\n",
              "      <th>2034</th>\n",
              "      <td>2010-07-21</td>\n",
              "      <td>122.1</td>\n",
              "      <td>123.00</td>\n",
              "      <td>121.05</td>\n",
              "      <td>121.10</td>\n",
              "      <td>121.55</td>\n",
              "      <td>658666</td>\n",
              "      <td>803.56</td>\n",
              "    </tr>\n",
              "    <tr>\n",
              "      <th>2033</th>\n",
              "      <td>2010-07-22</td>\n",
              "      <td>120.3</td>\n",
              "      <td>122.00</td>\n",
              "      <td>120.25</td>\n",
              "      <td>120.75</td>\n",
              "      <td>120.90</td>\n",
              "      <td>293312</td>\n",
              "      <td>355.17</td>\n",
              "    </tr>\n",
              "    <tr>\n",
              "      <th>2032</th>\n",
              "      <td>2010-07-23</td>\n",
              "      <td>121.8</td>\n",
              "      <td>121.95</td>\n",
              "      <td>120.25</td>\n",
              "      <td>120.35</td>\n",
              "      <td>120.65</td>\n",
              "      <td>281312</td>\n",
              "      <td>340.31</td>\n",
              "    </tr>\n",
              "    <tr>\n",
              "      <th>2031</th>\n",
              "      <td>2010-07-26</td>\n",
              "      <td>120.1</td>\n",
              "      <td>121.00</td>\n",
              "      <td>117.10</td>\n",
              "      <td>117.10</td>\n",
              "      <td>117.60</td>\n",
              "      <td>658440</td>\n",
              "      <td>780.01</td>\n",
              "    </tr>\n",
              "    <tr>\n",
              "      <th>2030</th>\n",
              "      <td>2010-07-27</td>\n",
              "      <td>117.6</td>\n",
              "      <td>119.50</td>\n",
              "      <td>112.00</td>\n",
              "      <td>118.80</td>\n",
              "      <td>118.65</td>\n",
              "      <td>586100</td>\n",
              "      <td>694.98</td>\n",
              "    </tr>\n",
              "  </tbody>\n",
              "</table>\n",
              "</div>\n",
              "      <button class=\"colab-df-convert\" onclick=\"convertToInteractive('df-c6bbd3c4-9309-4320-9dce-f8fdf0bba5ed')\"\n",
              "              title=\"Convert this dataframe to an interactive table.\"\n",
              "              style=\"display:none;\">\n",
              "        \n",
              "  <svg xmlns=\"http://www.w3.org/2000/svg\" height=\"24px\"viewBox=\"0 0 24 24\"\n",
              "       width=\"24px\">\n",
              "    <path d=\"M0 0h24v24H0V0z\" fill=\"none\"/>\n",
              "    <path d=\"M18.56 5.44l.94 2.06.94-2.06 2.06-.94-2.06-.94-.94-2.06-.94 2.06-2.06.94zm-11 1L8.5 8.5l.94-2.06 2.06-.94-2.06-.94L8.5 2.5l-.94 2.06-2.06.94zm10 10l.94 2.06.94-2.06 2.06-.94-2.06-.94-.94-2.06-.94 2.06-2.06.94z\"/><path d=\"M17.41 7.96l-1.37-1.37c-.4-.4-.92-.59-1.43-.59-.52 0-1.04.2-1.43.59L10.3 9.45l-7.72 7.72c-.78.78-.78 2.05 0 2.83L4 21.41c.39.39.9.59 1.41.59.51 0 1.02-.2 1.41-.59l7.78-7.78 2.81-2.81c.8-.78.8-2.07 0-2.86zM5.41 20L4 18.59l7.72-7.72 1.47 1.35L5.41 20z\"/>\n",
              "  </svg>\n",
              "      </button>\n",
              "      \n",
              "  <style>\n",
              "    .colab-df-container {\n",
              "      display:flex;\n",
              "      flex-wrap:wrap;\n",
              "      gap: 12px;\n",
              "    }\n",
              "\n",
              "    .colab-df-convert {\n",
              "      background-color: #E8F0FE;\n",
              "      border: none;\n",
              "      border-radius: 50%;\n",
              "      cursor: pointer;\n",
              "      display: none;\n",
              "      fill: #1967D2;\n",
              "      height: 32px;\n",
              "      padding: 0 0 0 0;\n",
              "      width: 32px;\n",
              "    }\n",
              "\n",
              "    .colab-df-convert:hover {\n",
              "      background-color: #E2EBFA;\n",
              "      box-shadow: 0px 1px 2px rgba(60, 64, 67, 0.3), 0px 1px 3px 1px rgba(60, 64, 67, 0.15);\n",
              "      fill: #174EA6;\n",
              "    }\n",
              "\n",
              "    [theme=dark] .colab-df-convert {\n",
              "      background-color: #3B4455;\n",
              "      fill: #D2E3FC;\n",
              "    }\n",
              "\n",
              "    [theme=dark] .colab-df-convert:hover {\n",
              "      background-color: #434B5C;\n",
              "      box-shadow: 0px 1px 3px 1px rgba(0, 0, 0, 0.15);\n",
              "      filter: drop-shadow(0px 1px 2px rgba(0, 0, 0, 0.3));\n",
              "      fill: #FFFFFF;\n",
              "    }\n",
              "  </style>\n",
              "\n",
              "      <script>\n",
              "        const buttonEl =\n",
              "          document.querySelector('#df-c6bbd3c4-9309-4320-9dce-f8fdf0bba5ed button.colab-df-convert');\n",
              "        buttonEl.style.display =\n",
              "          google.colab.kernel.accessAllowed ? 'block' : 'none';\n",
              "\n",
              "        async function convertToInteractive(key) {\n",
              "          const element = document.querySelector('#df-c6bbd3c4-9309-4320-9dce-f8fdf0bba5ed');\n",
              "          const dataTable =\n",
              "            await google.colab.kernel.invokeFunction('convertToInteractive',\n",
              "                                                     [key], {});\n",
              "          if (!dataTable) return;\n",
              "\n",
              "          const docLinkHtml = 'Like what you see? Visit the ' +\n",
              "            '<a target=\"_blank\" href=https://colab.research.google.com/notebooks/data_table.ipynb>data table notebook</a>'\n",
              "            + ' to learn more about interactive tables.';\n",
              "          element.innerHTML = '';\n",
              "          dataTable['output_type'] = 'display_data';\n",
              "          await google.colab.output.renderOutput(dataTable, element);\n",
              "          const docLink = document.createElement('div');\n",
              "          docLink.innerHTML = docLinkHtml;\n",
              "          element.appendChild(docLink);\n",
              "        }\n",
              "      </script>\n",
              "    </div>\n",
              "  </div>\n",
              "  "
            ],
            "text/plain": [
              "           Date   Open    High  ...   Close  Total Trade Quantity  Turnover (Lacs)\n",
              "2034 2010-07-21  122.1  123.00  ...  121.55                658666           803.56\n",
              "2033 2010-07-22  120.3  122.00  ...  120.90                293312           355.17\n",
              "2032 2010-07-23  121.8  121.95  ...  120.65                281312           340.31\n",
              "2031 2010-07-26  120.1  121.00  ...  117.60                658440           780.01\n",
              "2030 2010-07-27  117.6  119.50  ...  118.65                586100           694.98\n",
              "\n",
              "[5 rows x 8 columns]"
            ]
          },
          "metadata": {},
          "execution_count": 6
        }
      ]
    },
    {
      "cell_type": "code",
      "source": [
        "plt.figure(figsize = (9,6))\n",
        "plt.title('Tata Stocks Closing Price')\n",
        "plt.plot(data['Close'],'g')\n",
        "plt.xlabel('Date',fontsize=15)\n",
        "plt.ylabel('Close',fontsize=15)"
      ],
      "metadata": {
        "colab": {
          "base_uri": "https://localhost:8080/",
          "height": 426
        },
        "id": "YXVVxU2kSdR1",
        "outputId": "f8f73986-7c38-4b65-c777-9e124a81d469"
      },
      "execution_count": 7,
      "outputs": [
        {
          "output_type": "execute_result",
          "data": {
            "text/plain": [
              "Text(0, 0.5, 'Close')"
            ]
          },
          "metadata": {},
          "execution_count": 7
        },
        {
          "output_type": "display_data",
          "data": {
            "image/png": "[encoded data removed]",
            "text/plain": [
              "<Figure size 648x432 with 1 Axes>"
            ]
          },
          "metadata": {
            "needs_background": "light"
          }
        }
      ]
    },
    {
      "cell_type": "code",
      "source": [
        "dcorr = data.corr()\n",
        "top_corr_features = dcorr.index\n",
        "plt.figure(figsize=(10,7))\n",
        "#plot heatmap\n",
        "sns.heatmap(data[top_corr_features].corr(), annot=True, cmap=\"YlGnBu\")"
      ],
      "metadata": {
        "colab": {
          "base_uri": "https://localhost:8080/",
          "height": 539
        },
        "id": "IjKtlZMLSh7g",
        "outputId": "dca0716d-1212-4b30-de15-89140b214f72"
      },
      "execution_count": 8,
      "outputs": [
        {
          "output_type": "execute_result",
          "data": {
            "text/plain": [
              "<matplotlib.axes._subplots.AxesSubplot at 0x7fdafec3a510>"
            ]
          },
          "metadata": {},
          "execution_count": 8
        },
        {
          "output_type": "display_data",
          "data": {
            "image/png": "[encoded data removed]",
            "text/plain": [
              "<Figure size 720x504 with 2 Axes>"
            ]
          },
          "metadata": {
            "needs_background": "light"
          }
        }
      ]
    },
    {
      "cell_type": "markdown",
      "source": [
        "MinMaxScaler"
      ],
      "metadata": {
        "id": "YZ2A8EHsSx_O"
      }
    },
    {
      "cell_type": "markdown",
      "source": [
        "\n",
        "From the original dataset, we can tell that each of our target value are in close proximity to one another. So, we will use MinMaxScaler to scale down all the target variables in the range of (0, 1) for the ease of computation."
      ],
      "metadata": {
        "id": "BXa9aUxySsoI"
      }
    },
    {
      "cell_type": "code",
      "source": [
        "data_close = data.reset_index()['Close']\n",
        "data_close.head()\n",
        "scaler = MinMaxScaler(feature_range = (0, 1))\n",
        "data_close = scaler.fit_transform(np.array(data_close).reshape(-1, 1))"
      ],
      "metadata": {
        "id": "-9yIZ2WDSm7F"
      },
      "execution_count": 9,
      "outputs": []
    },
    {
      "cell_type": "markdown",
      "source": [
        "Splitting train, Test data"
      ],
      "metadata": {
        "id": "SEQgYSrOTEyw"
      }
    },
    {
      "cell_type": "code",
      "source": [
        "train_size = int(len(data_close)*0.70)\n",
        "test_size = len(data_close) - train_size\n",
        "train, test = data_close[0 : train_size, :], data_close[train_size : len(data_close), :1]"
      ],
      "metadata": {
        "id": "sCL7kfS-S-BT"
      },
      "execution_count": 10,
      "outputs": []
    },
    {
      "cell_type": "code",
      "source": [
        "def create_matrix(ds, time_step=1):\n",
        "    dataX, dataY = [], []\n",
        "    for i in range(len(ds)-time_step-1):\n",
        "        a = ds[i:(i+time_step),0]\n",
        "        dataX.append(a)\n",
        "        dataY.append(ds[i+time_step,0])\n",
        "    return np.array(dataX), np.array(dataY)"
      ],
      "metadata": {
        "id": "NTqhfx5pTJhB"
      },
      "execution_count": 11,
      "outputs": []
    },
    {
      "cell_type": "code",
      "source": [
        "step=100 # time step\n",
        "X_train, y_train = create_matrix(train, step)\n",
        "X_test, y_test = create_matrix(test, step)\n",
        "print(X_train.shape, y_train.shape)\n",
        "print(X_test.shape, y_test.shape)"
      ],
      "metadata": {
        "colab": {
          "base_uri": "https://localhost:8080/"
        },
        "id": "A49i8mW7TMzP",
        "outputId": "cbef88e7-f8da-4456-f20f-3cd45817eb6b"
      },
      "execution_count": 12,
      "outputs": [
        {
          "output_type": "stream",
          "name": "stdout",
          "text": [
            "(1323, 100) (1323,)\n",
            "(510, 100) (510,)\n"
          ]
        }
      ]
    },
    {
      "cell_type": "code",
      "source": [
        "X_train = X_train.reshape(X_train.shape[0], X_train.shape[1], 1)\n",
        "X_test = X_test.reshape(X_test.shape[0], X_test.shape[1], 1)"
      ],
      "metadata": {
        "id": "aGMB4I_tTQn3"
      },
      "execution_count": 13,
      "outputs": []
    },
    {
      "cell_type": "markdown",
      "source": [
        "**LSTM** **Model**"
      ],
      "metadata": {
        "id": "7M1sMyVjTZhG"
      }
    },
    {
      "cell_type": "code",
      "source": [
        "model = Sequential()\n",
        "model.add(LSTM(50, return_sequences=True,input_shape=(100,1)))\n",
        "model.add(LSTM(50,return_sequences=True))\n",
        "model.add(LSTM(50))\n",
        "model.add(Dense(1))\n",
        "model.compile(loss='mean_squared_error',optimizer='adam')"
      ],
      "metadata": {
        "id": "8KQAXJOPTVkR"
      },
      "execution_count": 14,
      "outputs": []
    },
    {
      "cell_type": "code",
      "source": [
        "model.summary()"
      ],
      "metadata": {
        "colab": {
          "base_uri": "https://localhost:8080/"
        },
        "id": "hdk8MkkLTpyC",
        "outputId": "5768571c-f7f9-4977-ae6f-80cc50514aa7"
      },
      "execution_count": 15,
      "outputs": [
        {
          "output_type": "stream",
          "name": "stdout",
          "text": [
            "Model: \"sequential\"\n",
            "_________________________________________________________________\n",
            " Layer (type)                Output Shape              Param #   \n",
            "=================================================================\n",
            " lstm (LSTM)                 (None, 100, 50)           10400     \n",
            "                                                                 \n",
            " lstm_1 (LSTM)               (None, 100, 50)           20200     \n",
            "                                                                 \n",
            " lstm_2 (LSTM)               (None, 50)                20200     \n",
            "                                                                 \n",
            " dense (Dense)               (None, 1)                 51        \n",
            "                                                                 \n",
            "=================================================================\n",
            "Total params: 50,851\n",
            "Trainable params: 50,851\n",
            "Non-trainable params: 0\n",
            "_________________________________________________________________\n"
          ]
        }
      ]
    },
    {
      "cell_type": "code",
      "source": [
        "history = model.fit(X_train, y_train, validation_split=0.1, epochs=77, batch_size=64, verbose=1, shuffle=True).history"
      ],
      "metadata": {
        "colab": {
          "base_uri": "https://localhost:8080/"
        },
        "id": "ljJ-Ki0LTs89",
        "outputId": "375e0ef7-138a-40a9-aad9-ae3be45fd804"
      },
      "execution_count": 16,
      "outputs": [
        {
          "output_type": "stream",
          "name": "stdout",
          "text": [
            "Epoch 1/77\n",
            "19/19 [==============================] - 12s 237ms/step - loss: 0.0119 - val_loss: 0.0012\n",
            "Epoch 2/77\n",
            "19/19 [==============================] - 3s 165ms/step - loss: 0.0022 - val_loss: 0.0010\n",
            "Epoch 3/77\n",
            "19/19 [==============================] - 3s 164ms/step - loss: 9.1224e-04 - val_loss: 0.0011\n",
            "Epoch 4/77\n",
            "19/19 [==============================] - 3s 165ms/step - loss: 7.9236e-04 - val_loss: 9.6368e-04\n",
            "Epoch 5/77\n",
            "19/19 [==============================] - 3s 165ms/step - loss: 7.5618e-04 - val_loss: 9.6834e-04\n",
            "Epoch 6/77\n",
            "19/19 [==============================] - 3s 164ms/step - loss: 7.3682e-04 - val_loss: 9.6113e-04\n",
            "Epoch 7/77\n",
            "19/19 [==============================] - 3s 165ms/step - loss: 7.6126e-04 - val_loss: 9.1441e-04\n",
            "Epoch 8/77\n",
            "19/19 [==============================] - 3s 166ms/step - loss: 6.9879e-04 - val_loss: 8.6764e-04\n",
            "Epoch 9/77\n",
            "19/19 [==============================] - 6s 326ms/step - loss: 6.7513e-04 - val_loss: 8.3869e-04\n",
            "Epoch 10/77\n",
            "19/19 [==============================] - 4s 223ms/step - loss: 6.6903e-04 - val_loss: 8.0627e-04\n",
            "Epoch 11/77\n",
            "19/19 [==============================] - 3s 166ms/step - loss: 6.8545e-04 - val_loss: 7.7540e-04\n",
            "Epoch 12/77\n",
            "19/19 [==============================] - 3s 164ms/step - loss: 6.6375e-04 - val_loss: 7.5794e-04\n",
            "Epoch 13/77\n",
            "19/19 [==============================] - 5s 270ms/step - loss: 6.2413e-04 - val_loss: 7.2938e-04\n",
            "Epoch 14/77\n",
            "19/19 [==============================] - 3s 169ms/step - loss: 6.0186e-04 - val_loss: 7.3803e-04\n",
            "Epoch 15/77\n",
            "19/19 [==============================] - 4s 238ms/step - loss: 5.9139e-04 - val_loss: 7.0715e-04\n",
            "Epoch 16/77\n",
            "19/19 [==============================] - 4s 207ms/step - loss: 6.5287e-04 - val_loss: 6.5575e-04\n",
            "Epoch 17/77\n",
            "19/19 [==============================] - 4s 184ms/step - loss: 5.9504e-04 - val_loss: 6.4160e-04\n",
            "Epoch 18/77\n",
            "19/19 [==============================] - 3s 164ms/step - loss: 5.5623e-04 - val_loss: 6.8482e-04\n",
            "Epoch 19/77\n",
            "19/19 [==============================] - 4s 221ms/step - loss: 5.6990e-04 - val_loss: 6.2652e-04\n",
            "Epoch 20/77\n",
            "19/19 [==============================] - 3s 162ms/step - loss: 5.4689e-04 - val_loss: 5.8388e-04\n",
            "Epoch 21/77\n",
            "19/19 [==============================] - 3s 167ms/step - loss: 5.2823e-04 - val_loss: 5.7430e-04\n",
            "Epoch 22/77\n",
            "19/19 [==============================] - 3s 161ms/step - loss: 5.2309e-04 - val_loss: 5.6476e-04\n",
            "Epoch 23/77\n",
            "19/19 [==============================] - 3s 162ms/step - loss: 5.1147e-04 - val_loss: 5.3522e-04\n",
            "Epoch 24/77\n",
            "19/19 [==============================] - 3s 166ms/step - loss: 4.9997e-04 - val_loss: 5.2405e-04\n",
            "Epoch 25/77\n",
            "19/19 [==============================] - 3s 164ms/step - loss: 4.9190e-04 - val_loss: 5.5103e-04\n",
            "Epoch 26/77\n",
            "19/19 [==============================] - 3s 163ms/step - loss: 4.9398e-04 - val_loss: 4.9369e-04\n",
            "Epoch 27/77\n",
            "19/19 [==============================] - 3s 165ms/step - loss: 5.2655e-04 - val_loss: 5.2606e-04\n",
            "Epoch 28/77\n",
            "19/19 [==============================] - 3s 165ms/step - loss: 5.3044e-04 - val_loss: 7.8230e-04\n",
            "Epoch 29/77\n",
            "19/19 [==============================] - 3s 162ms/step - loss: 5.1849e-04 - val_loss: 5.0113e-04\n",
            "Epoch 30/77\n",
            "19/19 [==============================] - 3s 163ms/step - loss: 4.5845e-04 - val_loss: 4.6515e-04\n",
            "Epoch 31/77\n",
            "19/19 [==============================] - 3s 161ms/step - loss: 4.7031e-04 - val_loss: 4.7737e-04\n",
            "Epoch 32/77\n",
            "19/19 [==============================] - 3s 168ms/step - loss: 4.8359e-04 - val_loss: 4.9626e-04\n",
            "Epoch 33/77\n",
            "19/19 [==============================] - 3s 164ms/step - loss: 4.7352e-04 - val_loss: 4.3144e-04\n",
            "Epoch 34/77\n",
            "19/19 [==============================] - 3s 167ms/step - loss: 4.3303e-04 - val_loss: 4.3210e-04\n",
            "Epoch 35/77\n",
            "19/19 [==============================] - 3s 162ms/step - loss: 4.0570e-04 - val_loss: 3.8898e-04\n",
            "Epoch 36/77\n",
            "19/19 [==============================] - 3s 164ms/step - loss: 3.8159e-04 - val_loss: 4.0545e-04\n",
            "Epoch 37/77\n",
            "19/19 [==============================] - 3s 163ms/step - loss: 3.8339e-04 - val_loss: 3.5725e-04\n",
            "Epoch 38/77\n",
            "19/19 [==============================] - 3s 163ms/step - loss: 3.7589e-04 - val_loss: 4.4739e-04\n",
            "Epoch 39/77\n",
            "19/19 [==============================] - 3s 162ms/step - loss: 3.8589e-04 - val_loss: 3.3858e-04\n",
            "Epoch 40/77\n",
            "19/19 [==============================] - 3s 165ms/step - loss: 3.5184e-04 - val_loss: 3.6415e-04\n",
            "Epoch 41/77\n",
            "19/19 [==============================] - 3s 162ms/step - loss: 3.6952e-04 - val_loss: 4.0263e-04\n",
            "Epoch 42/77\n",
            "19/19 [==============================] - 3s 163ms/step - loss: 3.4693e-04 - val_loss: 3.1440e-04\n",
            "Epoch 43/77\n",
            "19/19 [==============================] - 3s 165ms/step - loss: 3.2434e-04 - val_loss: 3.0133e-04\n",
            "Epoch 44/77\n",
            "19/19 [==============================] - 3s 162ms/step - loss: 3.2558e-04 - val_loss: 2.9315e-04\n",
            "Epoch 45/77\n",
            "19/19 [==============================] - 3s 165ms/step - loss: 3.0986e-04 - val_loss: 2.8119e-04\n",
            "Epoch 46/77\n",
            "19/19 [==============================] - 3s 165ms/step - loss: 3.1884e-04 - val_loss: 2.9400e-04\n",
            "Epoch 47/77\n",
            "19/19 [==============================] - 3s 165ms/step - loss: 3.1611e-04 - val_loss: 2.7059e-04\n",
            "Epoch 48/77\n",
            "19/19 [==============================] - 3s 162ms/step - loss: 2.8225e-04 - val_loss: 2.6051e-04\n",
            "Epoch 49/77\n",
            "19/19 [==============================] - 3s 164ms/step - loss: 2.8636e-04 - val_loss: 2.5012e-04\n",
            "Epoch 50/77\n",
            "19/19 [==============================] - 3s 166ms/step - loss: 2.6889e-04 - val_loss: 2.5553e-04\n",
            "Epoch 51/77\n",
            "19/19 [==============================] - 3s 167ms/step - loss: 2.7255e-04 - val_loss: 2.4610e-04\n",
            "Epoch 52/77\n",
            "19/19 [==============================] - 3s 162ms/step - loss: 2.6242e-04 - val_loss: 2.3478e-04\n",
            "Epoch 53/77\n",
            "19/19 [==============================] - 3s 165ms/step - loss: 2.8329e-04 - val_loss: 2.7964e-04\n",
            "Epoch 54/77\n",
            "19/19 [==============================] - 3s 162ms/step - loss: 2.5793e-04 - val_loss: 2.1782e-04\n",
            "Epoch 55/77\n",
            "19/19 [==============================] - 3s 163ms/step - loss: 2.4545e-04 - val_loss: 3.1932e-04\n",
            "Epoch 56/77\n",
            "19/19 [==============================] - 3s 164ms/step - loss: 2.7587e-04 - val_loss: 2.0825e-04\n",
            "Epoch 57/77\n",
            "19/19 [==============================] - 3s 165ms/step - loss: 2.3194e-04 - val_loss: 2.0770e-04\n",
            "Epoch 58/77\n",
            "19/19 [==============================] - 3s 162ms/step - loss: 2.5193e-04 - val_loss: 2.4059e-04\n",
            "Epoch 59/77\n",
            "19/19 [==============================] - 3s 164ms/step - loss: 2.5200e-04 - val_loss: 2.2236e-04\n",
            "Epoch 60/77\n",
            "19/19 [==============================] - 4s 191ms/step - loss: 2.6109e-04 - val_loss: 3.2846e-04\n",
            "Epoch 61/77\n",
            "19/19 [==============================] - 4s 192ms/step - loss: 2.4362e-04 - val_loss: 1.9765e-04\n",
            "Epoch 62/77\n",
            "19/19 [==============================] - 3s 165ms/step - loss: 2.1115e-04 - val_loss: 2.0453e-04\n",
            "Epoch 63/77\n",
            "19/19 [==============================] - 5s 252ms/step - loss: 1.9997e-04 - val_loss: 1.8137e-04\n",
            "Epoch 64/77\n",
            "19/19 [==============================] - 3s 163ms/step - loss: 1.9807e-04 - val_loss: 1.9471e-04\n",
            "Epoch 65/77\n",
            "19/19 [==============================] - 3s 164ms/step - loss: 1.9020e-04 - val_loss: 1.7406e-04\n",
            "Epoch 66/77\n",
            "19/19 [==============================] - 3s 164ms/step - loss: 1.8817e-04 - val_loss: 1.6551e-04\n",
            "Epoch 67/77\n",
            "19/19 [==============================] - 3s 165ms/step - loss: 1.8705e-04 - val_loss: 1.7571e-04\n",
            "Epoch 68/77\n",
            "19/19 [==============================] - 3s 164ms/step - loss: 1.8809e-04 - val_loss: 2.2788e-04\n",
            "Epoch 69/77\n",
            "19/19 [==============================] - 3s 167ms/step - loss: 1.9102e-04 - val_loss: 1.5532e-04\n",
            "Epoch 70/77\n",
            "19/19 [==============================] - 3s 165ms/step - loss: 1.7316e-04 - val_loss: 1.9409e-04\n",
            "Epoch 71/77\n",
            "19/19 [==============================] - 3s 164ms/step - loss: 1.9468e-04 - val_loss: 1.9399e-04\n",
            "Epoch 72/77\n",
            "19/19 [==============================] - 3s 164ms/step - loss: 1.7757e-04 - val_loss: 1.5422e-04\n",
            "Epoch 73/77\n",
            "19/19 [==============================] - 3s 165ms/step - loss: 1.6490e-04 - val_loss: 1.5750e-04\n",
            "Epoch 74/77\n",
            "19/19 [==============================] - 3s 166ms/step - loss: 1.8076e-04 - val_loss: 1.5033e-04\n",
            "Epoch 75/77\n",
            "19/19 [==============================] - 4s 198ms/step - loss: 1.8135e-04 - val_loss: 1.5030e-04\n",
            "Epoch 76/77\n",
            "19/19 [==============================] - 4s 212ms/step - loss: 1.7780e-04 - val_loss: 1.4957e-04\n",
            "Epoch 77/77\n",
            "19/19 [==============================] - 3s 168ms/step - loss: 1.7114e-04 - val_loss: 1.3520e-04\n"
          ]
        }
      ]
    },
    {
      "cell_type": "markdown",
      "source": [
        ""
      ],
      "metadata": {
        "id": "PscGCcl8ufcp"
      }
    },
    {
      "cell_type": "code",
      "source": [
        "train_predict = model.predict(X_train)\n",
        "test_predict = model.predict(X_test)\n"
      ],
      "metadata": {
        "id": "f80TX3jVT3Fj"
      },
      "execution_count": 17,
      "outputs": []
    },
    {
      "cell_type": "code",
      "source": [
        "# Reversing the MinMax Scaler\n",
        "train_predict = scaler.inverse_transform(train_predict)\n",
        "test_predict = scaler.inverse_transform(test_predict)\n"
      ],
      "metadata": {
        "id": "qPR8_8HMT7bF"
      },
      "execution_count": 18,
      "outputs": []
    },
    {
      "cell_type": "code",
      "source": [
        "### Visualise the Predictions\n",
        "look_back = 100\n",
        "train_num_pyredict_plot = np.empty_like(data_close)\n",
        "train_num_pyredict_plot[:, :] = np.nan\n",
        "train_num_pyredict_plot[look_back : len(train_predict) + look_back, :] = train_predict\n",
        "test_predict_plot = np.empty_like(data_close)\n",
        "test_predict_plot[:, :] = np.nan\n",
        "test_predict_plot[len(train_predict) + (look_back * 2) + 1 : len(data_close) - 1, :] = test_predict\n",
        "plt.plot(scaler.inverse_transform(data_close))\n",
        "plt.plot(train_num_pyredict_plot)\n",
        "plt.plot(test_predict_plot)\n",
        "plt.show()"
      ],
      "metadata": {
        "colab": {
          "base_uri": "https://localhost:8080/",
          "height": 265
        },
        "id": "vVvHBHAJUCEd",
        "outputId": "57261cff-42e8-4101-f3f4-7b25e6fe9069"
      },
      "execution_count": 20,
      "outputs": [
        {
          "output_type": "display_data",
          "data": {
            "image/png": "[encoded data removed]",
            "text/plain": [
              "<Figure size 432x288 with 1 Axes>"
            ]
          },
          "metadata": {
            "needs_background": "light"
          }
        }
      ]
    },
    {
      "cell_type": "markdown",
      "source": [
        "**Future Prediction Model**\n"
      ],
      "metadata": {
        "id": "8NTo5v8TSrX3"
      }
    },
    {
      "cell_type": "code",
      "source": [
        "x_inum_pyut=test[307:].reshape(1, -1)\n",
        "x_inum_pyut.shape\n",
        "temp_inum_pyut = list(x_inum_pyut)\n",
        "temp_inum_pyut = temp_inum_pyut[0].tolist()\n",
        "temp_inum_pyut = list(x_inum_pyut)\n",
        "temp_inum_pyut = temp_inum_pyut[0].tolist()"
      ],
      "metadata": {
        "id": "FVam4VvIUKNh"
      },
      "execution_count": 21,
      "outputs": []
    },
    {
      "cell_type": "code",
      "source": [
        "day_new = np.arange(1, 101)\n",
        "day_pred = np.arange(101, 131)\n",
        "plt.plot(day_new, scaler.inverse_transform(data_close[1935 : ]))"
      ],
      "metadata": {
        "colab": {
          "base_uri": "https://localhost:8080/",
          "height": 282
        },
        "id": "a0VR0njzUYoi",
        "outputId": "6aff7036-2ce6-4cb6-a712-8b9d67534f87"
      },
      "execution_count": 22,
      "outputs": [
        {
          "output_type": "execute_result",
          "data": {
            "text/plain": [
              "[<matplotlib.lines.Line2D at 0x7fdaf7739310>]"
            ]
          },
          "metadata": {},
          "execution_count": 22
        },
        {
          "output_type": "display_data",
          "data": {
            "image/png": "[encoded data removed]",
            "text/plain": [
              "<Figure size 432x288 with 1 Axes>"
            ]
          },
          "metadata": {
            "needs_background": "light"
          }
        }
      ]
    },
    {
      "cell_type": "markdown",
      "source": [
        "# ***Thank You !!!!***"
      ],
      "metadata": {
        "id": "tTjwTHk6Uiu-"
      }
    }
  ]
}